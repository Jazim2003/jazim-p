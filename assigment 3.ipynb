{
 "cells": [
  {
   "cell_type": "markdown",
   "id": "031dab9d-33c9-4149-a431-f545075c79f0",
   "metadata": {},
   "source": [
    "# question 1"
   ]
  },
  {
   "cell_type": "code",
   "execution_count": 1,
   "id": "a84053e0-5592-4ec0-8eef-26a160f95ff3",
   "metadata": {},
   "outputs": [
    {
     "name": "stdin",
     "output_type": "stream",
     "text": [
      "Enter your age:  40\n"
     ]
    },
    {
     "name": "stdout",
     "output_type": "stream",
     "text": [
      "Adult\n"
     ]
    }
   ],
   "source": [
    "# Get the age from the user\n",
    "age = int(input(\"Enter your age: \"))\n",
    "\n",
    "# Classify the age group\n",
    "if age >= 0 and age <= 12:\n",
    "    print(\"Child\")\n",
    "elif age >= 13 and age <= 19:\n",
    "    print(\"Teenager\")\n",
    "elif age >= 20 and age <= 64:\n",
    "    print(\"Adult\")\n",
    "elif age >= 65:\n",
    "    print(\"Senior\")\n",
    "else:\n",
    "    print(\"Invalid age entered (age cannot be negative)\")"
   ]
  },
  {
   "cell_type": "markdown",
   "id": "e6e1a776-fd73-49df-b629-11d9e73efb74",
   "metadata": {},
   "source": [
    "# question 2"
   ]
  },
  {
   "cell_type": "code",
   "execution_count": 5,
   "id": "583f0237-8345-4e9b-a2eb-2b74b39f342e",
   "metadata": {},
   "outputs": [
    {
     "name": "stdin",
     "output_type": "stream",
     "text": [
      "enter email adress: jazim.@gmail.com\n"
     ]
    }
   ],
   "source": [
    "email=input(\"enter email adress:\")"
   ]
  },
  {
   "cell_type": "code",
   "execution_count": 7,
   "id": "305a6ff7-4df8-4ac6-bbca-d814049b9fa7",
   "metadata": {},
   "outputs": [
    {
     "name": "stdout",
     "output_type": "stream",
     "text": [
      "Email format is valid.\n"
     ]
    }
   ],
   "source": [
    "# Check if both '@' and '.' are present in the email\n",
    "if '@' in email and '.' in email:\n",
    "    print(\"Email format is valid.\")\n",
    "else:\n",
    "    print(\"Invalid email format.\")"
   ]
  },
  {
   "cell_type": "markdown",
   "id": "ba242ae6-2aa8-4613-9888-74ed6300a670",
   "metadata": {},
   "source": [
    "# question 3"
   ]
  },
  {
   "cell_type": "code",
   "execution_count": 2,
   "id": "386923af-6dd2-4c3a-bc1f-88936e5db089",
   "metadata": {},
   "outputs": [
    {
     "name": "stdin",
     "output_type": "stream",
     "text": [
      "Enter first number:  30\n",
      "Enter second number:  17\n",
      "Enter third number:  1000\n"
     ]
    },
    {
     "name": "stdout",
     "output_type": "stream",
     "text": [
      "The largest number is: 1000.0\n",
      "All numbers are different.\n"
     ]
    }
   ],
   "source": [
    "# Take three numbers as input from the user\n",
    "num1 = float(input(\"Enter first number: \"))\n",
    "num2 = float(input(\"Enter second number: \"))\n",
    "num3 = float(input(\"Enter third number: \"))\n",
    "\n",
    "# Check if all numbers are equal\n",
    "if num1 == num2 == num3:\n",
    "    print(\"All three numbers are equal.\")\n",
    "else:\n",
    "    # Find the largest number\n",
    "    if num1 >= num2 and num1 >= num3:\n",
    "        largest = num1\n",
    "    elif num2 >= num1 and num2 >= num3:\n",
    "        largest = num2\n",
    "    else:\n",
    "        largest = num3\n",
    "\n",
    "    print(f\"The largest number is: {largest}\")\n",
    "\n",
    "    # Check if any two numbers are equal\n",
    "    if num1 == num2 or num1 == num3 or num2 == num3:\n",
    "        print(\"Some of the numbers are equal.\")\n",
    "    else:\n",
    "        print(\"All numbers are different.\")\n"
   ]
  },
  {
   "cell_type": "markdown",
   "id": "54f8dabc-0716-4af7-8143-26e3e68f3a95",
   "metadata": {},
   "source": [
    "# question 4"
   ]
  },
  {
   "cell_type": "code",
   "execution_count": 8,
   "id": "68c22a38-fbca-4d67-8171-2532917a3322",
   "metadata": {},
   "outputs": [
    {
     "name": "stdin",
     "output_type": "stream",
     "text": [
      "Enter a number:  290\n"
     ]
    },
    {
     "name": "stdout",
     "output_type": "stream",
     "text": [
      "The number is positive and even.\n"
     ]
    }
   ],
   "source": [
    "# Check if a number is positive and determine if it's even or odd\n",
    "\n",
    "# Step 1: Ask the user to enter a number\n",
    "number = int(input(\"Enter a number: \"))\n",
    "\n",
    "# Step 2: Check whether the number is positive\n",
    "if number > 0:\n",
    "    # Step 3: Further check if it's even or odd\n",
    "    if number % 2 == 0:\n",
    "        print(\"The number is positive and even.\")\n",
    "    else:\n",
    "        print(\"The number is positive and odd.\")\n",
    "else:\n",
    "    # Step 4: If the number is zero or negative\n",
    "    print(\"The number is not positive.\")\n"
   ]
  },
  {
   "cell_type": "markdown",
   "id": "24c5b727-db12-4154-9f62-3ad4415cf798",
   "metadata": {},
   "source": [
    "# question 5\n"
   ]
  },
  {
   "cell_type": "code",
   "execution_count": 12,
   "id": "c210f15a-e6fe-4d1f-bbea-dcc01b6b5c61",
   "metadata": {},
   "outputs": [
    {
     "name": "stdin",
     "output_type": "stream",
     "text": [
      "Enter username:  admin\n",
      "Enter password:  1234\n"
     ]
    },
    {
     "name": "stdout",
     "output_type": "stream",
     "text": [
      "Access granted\n"
     ]
    }
   ],
   "source": [
    "# Predefined username and password\n",
    "correct_username = \"admin\"\n",
    "correct_password = \"1234\"\n",
    "\n",
    "# Ask the user for username and password\n",
    "username = input(\"Enter username: \")\n",
    "password = input(\"Enter password: \")\n",
    "\n",
    "# Check credentials\n",
    "if username == correct_username:\n",
    "    if password == correct_password:\n",
    "        print(\"Access granted\")\n",
    "    else:\n",
    "        print(\"Incorrect password\")\n",
    "else:\n",
    "    print(\"Incorrect username\")\n"
   ]
  },
  {
   "cell_type": "markdown",
   "id": "a395c3c5-df13-45ec-baad-345d04a327b1",
   "metadata": {},
   "source": [
    "# question 6"
   ]
  },
  {
   "cell_type": "code",
   "execution_count": 18,
   "id": "5ebdb51e-27bf-4424-a781-9f388651a5af",
   "metadata": {},
   "outputs": [
    {
     "name": "stdin",
     "output_type": "stream",
     "text": [
      "Enter an integer:  20\n"
     ]
    },
    {
     "name": "stdout",
     "output_type": "stream",
     "text": [
      "20 exists in the tuple.\n"
     ]
    }
   ],
   "source": [
    "# Tuple\n",
    "my_tuple = (5, 10, 15, 20, 25)\n",
    "\n",
    "# Take input from the user\n",
    "user_input = int(input(\"Enter an integer: \"))\n",
    "\n",
    "# Check if the entered value exists in the tuple\n",
    "if user_input in my_tuple:\n",
    "    print(f\"{user_input} exists in the tuple.\")\n",
    "else:\n",
    "    print(f\"{user_input} does not exist in the tuple.\")\n"
   ]
  },
  {
   "cell_type": "markdown",
   "id": "f833834c-e203-4dfd-9f01-1fe746a8175b",
   "metadata": {},
   "source": [
    "# question 7"
   ]
  },
  {
   "cell_type": "code",
   "execution_count": 63,
   "id": "1ae55128-5811-4cc3-91ab-56507e364e3d",
   "metadata": {},
   "outputs": [
    {
     "name": "stdin",
     "output_type": "stream",
     "text": [
      "Enter your first name:  jazim\n",
      "Enter your last name:  adil\n",
      "Enter your age:  22\n"
     ]
    },
    {
     "name": "stdout",
     "output_type": "stream",
     "text": [
      "User Information: ('jazim', 'adil', 22)\n"
     ]
    }
   ],
   "source": [
    "# Taking user input for first name, last name, and age\n",
    "first_name = input(\"Enter your first name: \")\n",
    "last_name = input(\"Enter your last name: \")\n",
    "age = int(input(\"Enter your age: \"))\n",
    "\n",
    "# Packing the values into a tuple\n",
    "user_info = (first_name, last_name, age)\n",
    "\n",
    "# Printing the tuple\n",
    "print(\"User Information:\", user_info)\n"
   ]
  },
  {
   "cell_type": "markdown",
   "id": "17508a8d-f0d1-412f-916f-529ed1561916",
   "metadata": {},
   "source": [
    "# question 8"
   ]
  },
  {
   "cell_type": "code",
   "execution_count": 68,
   "id": "cafe16ec-4180-494d-aca3-d739c5d69d9b",
   "metadata": {},
   "outputs": [
    {
     "name": "stdout",
     "output_type": "stream",
     "text": [
      "The sum of the variables is: 15\n"
     ]
    }
   ],
   "source": [
    "# Given tuple\n",
    "coordinates = (4, 5, 6)\n",
    "\n",
    "# Unpacking the elements of the tuple into three variables\n",
    "x, y, z = coordinates\n",
    "\n",
    "# Calculating the sum of the variables\n",
    "sum_of_variables = x + y + z\n",
    "\n",
    "# Printing the sum\n",
    "print(\"The sum of the variables is:\", sum_of_variables)\n"
   ]
  },
  {
   "cell_type": "markdown",
   "id": "4ababcc9-fe43-4d88-9e4b-4ac2aece01a7",
   "metadata": {},
   "source": [
    "# question 9"
   ]
  },
  {
   "cell_type": "code",
   "execution_count": 1,
   "id": "2eca6ab2-aa64-4fd7-998e-d32e1b9a3a87",
   "metadata": {},
   "outputs": [
    {
     "name": "stdout",
     "output_type": "stream",
     "text": [
      "(1, 2, 4, 5)\n"
     ]
    }
   ],
   "source": [
    "my_tuple = (1, 2, 3, 4, 5)\n",
    "\n",
    "# Convert to list\n",
    "temp_list = list(my_tuple)\n",
    "\n",
    "# Remove the element 3\n",
    "temp_list.remove(3)\n",
    "\n",
    "# Convert back to tuple\n",
    "result_tuple = tuple(temp_list)\n",
    "\n",
    "# Print the resulting tuple\n",
    "print(result_tuple)\n"
   ]
  },
  {
   "cell_type": "markdown",
   "id": "284da9ad-da99-4ace-9902-da917e794b7d",
   "metadata": {},
   "source": [
    "# question 10"
   ]
  },
  {
   "cell_type": "code",
   "execution_count": null,
   "id": "5dd0591f-1a61-4961-8ff5-24424b65218f",
   "metadata": {},
   "outputs": [],
   "source": []
  }
 ],
 "metadata": {
  "kernelspec": {
   "display_name": "Python [conda env:base] *",
   "language": "python",
   "name": "conda-base-py"
  },
  "language_info": {
   "codemirror_mode": {
    "name": "ipython",
    "version": 3
   },
   "file_extension": ".py",
   "mimetype": "text/x-python",
   "name": "python",
   "nbconvert_exporter": "python",
   "pygments_lexer": "ipython3",
   "version": "3.12.7"
  },
  "panel-cell-order": [
   "ae3ce238-093a-44d8-b74a-22939f4e7fb0"
  ]
 },
 "nbformat": 4,
 "nbformat_minor": 5
}
