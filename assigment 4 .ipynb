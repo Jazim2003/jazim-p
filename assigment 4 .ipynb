{
 "cells": [
  {
   "cell_type": "markdown",
   "id": "a0ea33ab-c79b-4f11-a641-4b7c09e044dd",
   "metadata": {},
   "source": [
    "# question 1"
   ]
  },
  {
   "cell_type": "code",
   "execution_count": 2,
   "id": "33ba395c-0579-4cb3-8685-127b4b8c8e9d",
   "metadata": {},
   "outputs": [
    {
     "name": "stdout",
     "output_type": "stream",
     "text": [
      "{101: {'name': 'Laptop', 'category': 'Electronics', 'price': 1200, 'stock': 50}, 102: {'name': 'Shirt', 'category': 'Apparel', 'price': 25, 'stock': 250}, 103: {'name': 'Coffee Maker', 'category': 'Home Appliances', 'price': 80, 'stock': 30}, 104: {'name': 'Smartphone', 'category': 'Electronics', 'price': 699, 'stock': 100}}\n"
     ]
    }
   ],
   "source": [
    "products = {\n",
    "    101: {\"name\": \"Laptop\", \"category\": \"Electronics\", \"price\": 1200, \"stock\": 50},\n",
    "    102: {\"name\": \"Shirt\", \"category\": \"Apparel\", \"price\": 25, \"stock\": 200},\n",
    "    103: {\"name\": \"Coffee Maker\", \"category\": \"Home Appliances\", \"price\": 80, \"stock\": 30}\n",
    "}\n",
    "\n",
    "# Increase the stock of the \"Shirt\" product (product ID 102) by 50 units\n",
    "products[102][\"stock\"] += 50\n",
    "\n",
    "# Add a new product \"Smartphone\"\n",
    "products[104] = {\n",
    "    \"name\": \"Smartphone\",\n",
    "    \"category\": \"Electronics\",\n",
    "    \"price\": 699,\n",
    "    \"stock\": 100\n",
    "}\n",
    "\n",
    "# Print the updated dictionary\n",
    "print(products)\n"
   ]
  },
  {
   "cell_type": "markdown",
   "id": "34917ff9-94b4-4c2e-8027-283f22fc0911",
   "metadata": {},
   "source": [
    "# question 2"
   ]
  },
  {
   "cell_type": "code",
   "execution_count": 5,
   "id": "d44a770c-2a14-441a-9416-67f9020f79f1",
   "metadata": {},
   "outputs": [
    {
     "name": "stdout",
     "output_type": "stream",
     "text": [
      "['apple', 'grape', 'banana', 'orange']\n"
     ]
    }
   ],
   "source": [
    "shopping_list = [\"apple\", \"banana\", \"apple\", \"orange\", \"banana\", \"grape\"]\n",
    "\n",
    "# Remove duplicates\n",
    "unique_items = list(set(shopping_list))\n",
    "\n",
    "print(unique_items)\n"
   ]
  },
  {
   "cell_type": "code",
   "execution_count": 9,
   "id": "c99a4f29-9eb7-417b-9468-2aa3770e1626",
   "metadata": {},
   "outputs": [
    {
     "name": "stdout",
     "output_type": "stream",
     "text": [
      "['apple', 'banana', 'orange', 'grape']\n"
     ]
    }
   ],
   "source": [
    "unique_items = []\n",
    "for item in shopping_list:\n",
    "    if item not in unique_items:\n",
    "        unique_items.append(item)\n",
    "\n",
    "print(unique_items)\n"
   ]
  },
  {
   "cell_type": "markdown",
   "id": "efacd17e-ac99-4d00-b7ff-70f9adfb27eb",
   "metadata": {},
   "source": [
    "# question 3"
   ]
  },
  {
   "cell_type": "code",
   "execution_count": 12,
   "id": "b3153823-3bc0-43cd-acd2-ac26189d170f",
   "metadata": {},
   "outputs": [
    {
     "name": "stdout",
     "output_type": "stream",
     "text": [
      "Students only in Course A: {'Bob', 'John'}\n",
      "Students only in one course: {'Charlie', 'Eve', 'Bob', 'John'}\n"
     ]
    }
   ],
   "source": [
    "course_a = {\"John\", \"Alice\", \"Bob\", \"David\"}\n",
    "course_b = {\"Alice\", \"Eve\", \"Charlie\", \"David\"}\n",
    "\n",
    "# Students in Course A but not in Course B\n",
    "only_in_course_a = course_a - course_b\n",
    "print(\"Students only in Course A:\", only_in_course_a)\n",
    "\n",
    "# Students only in one of the two courses (symmetric difference)\n",
    "only_in_one_course = course_a ^ course_b\n",
    "print(\"Students only in one course:\", only_in_one_course)\n"
   ]
  },
  {
   "cell_type": "markdown",
   "id": "1ffbf857-e41b-4340-9219-e054992f0bd6",
   "metadata": {},
   "source": [
    "# question 4"
   ]
  },
  {
   "cell_type": "code",
   "execution_count": 15,
   "id": "583730bd-e15f-4d98-8de9-d2119a18f756",
   "metadata": {},
   "outputs": [
    {
     "name": "stdout",
     "output_type": "stream",
     "text": [
      "The sum of all even numbers from 1 to 50 is: 650\n"
     ]
    }
   ],
   "source": [
    "# Initialize variable to hold the sum of even numbers\n",
    "sum_of_evens = 0\n",
    "\n",
    "# Loop through numbers from 1 to 50\n",
    "for num in range(1, 51):\n",
    "    if num % 2 == 0:  # Check if number is even\n",
    "        sum_of_evens += num\n",
    "\n",
    "# Print the total sum of even numbers\n",
    "print(\"The sum of all even numbers from 1 to 50 is:\", sum_of_evens)\n"
   ]
  },
  {
   "cell_type": "markdown",
   "id": "bd6f8ed8-bf00-4b73-ae0a-8145b31f7778",
   "metadata": {},
   "source": [
    "# question 5"
   ]
  },
  {
   "cell_type": "code",
   "execution_count": 18,
   "id": "a65021e4-63c3-4e50-a86d-a2f314fd5e38",
   "metadata": {},
   "outputs": [
    {
     "name": "stdin",
     "output_type": "stream",
     "text": [
      "Enter a number:  5\n"
     ]
    },
    {
     "name": "stdout",
     "output_type": "stream",
     "text": [
      "5^1 = 5\n",
      "5^2 = 25\n",
      "5^3 = 125\n",
      "5^4 = 625\n",
      "5^5 = 3125\n",
      "5^6 = 15625\n",
      "5^7 = 78125\n",
      "5^8 = 390625\n",
      "5^9 = 1953125\n",
      "5^10 = 9765625\n"
     ]
    }
   ],
   "source": [
    "# Input from user\n",
    "num = int(input(\"Enter a number: \"))\n",
    "\n",
    "# Initialize the power value\n",
    "power = 1\n",
    "\n",
    "# Use a while loop to print the powers from 1 to 10\n",
    "while power <= 10:\n",
    "    print(f\"{num}^{power} = {num ** power}\")\n",
    "    power += 1\n",
    "\n"
   ]
  },
  {
   "cell_type": "markdown",
   "id": "06f56715-a9f3-436a-8656-92e1bc789239",
   "metadata": {},
   "source": [
    "# question 6"
   ]
  },
  {
   "cell_type": "code",
   "execution_count": 20,
   "id": "7cf7d964-dc1d-4486-a091-28b4574b3a22",
   "metadata": {},
   "outputs": [
    {
     "name": "stdin",
     "output_type": "stream",
     "text": [
      "Enter a number to start the countdown:  4\n"
     ]
    },
    {
     "name": "stdout",
     "output_type": "stream",
     "text": [
      "4\n",
      "3\n",
      "2\n",
      "1\n",
      "0\n",
      "Countdown finished!\n"
     ]
    }
   ],
   "source": [
    "# Input from user\n",
    "num = int(input(\"Enter a number to start the countdown: \"))\n",
    "\n",
    "# Countdown loop\n",
    "while num >= 0:\n",
    "    print(num)\n",
    "    num -= 1\n",
    "\n",
    "# Message when countdown finishes\n",
    "print(\"Countdown finished!\")\n"
   ]
  },
  {
   "cell_type": "markdown",
   "id": "8cb60083-ed6f-4e25-8267-75ca7bbbfc53",
   "metadata": {},
   "source": [
    "# questin 7"
   ]
  },
  {
   "cell_type": "code",
   "execution_count": 24,
   "id": "2f874c9f-b744-4bb8-b7eb-6684dac5221b",
   "metadata": {},
   "outputs": [
    {
     "name": "stdin",
     "output_type": "stream",
     "text": [
      "Enter a number to calculate its factorial:  5\n"
     ]
    },
    {
     "name": "stdout",
     "output_type": "stream",
     "text": [
      "The factorial of 5 is 120\n"
     ]
    }
   ],
   "source": [
    "# Input from the user\n",
    "num = int(input(\"Enter a number to calculate its factorial: \"))\n",
    "\n",
    "# Initialize the factorial variable\n",
    "factorial = 1\n",
    "\n",
    "# Calculate factorial using a for loop\n",
    "for i in range(1, num + 1):\n",
    "    factorial *= i\n",
    "\n",
    "# Display the result\n",
    "print(f\"The factorial of {num} is {factorial}\")\n"
   ]
  },
  {
   "cell_type": "markdown",
   "id": "3b009a74-34f4-4851-b5f8-eeae704eb32f",
   "metadata": {},
   "source": [
    "# question 8"
   ]
  },
  {
   "cell_type": "code",
   "execution_count": 27,
   "id": "1908fb8b-d53a-4968-851b-bdc6e7f57565",
   "metadata": {},
   "outputs": [
    {
     "name": "stdout",
     "output_type": "stream",
     "text": [
      "{'name': 'Alice', 'age': 25, 'occupation': 'Engineer'}\n"
     ]
    }
   ],
   "source": [
    "# Create an empty dictionary\n",
    "person_info = {}\n",
    "\n",
    "# Assign key-value pairs\n",
    "person_info[\"name\"] = \"Alice\"\n",
    "person_info[\"age\"] = 25\n",
    "person_info[\"occupation\"] = \"Engineer\"\n",
    "\n",
    "# Print the dictionary\n",
    "print(person_info)\n"
   ]
  },
  {
   "cell_type": "markdown",
   "id": "2bbf0f74-4d04-4569-9ef7-7eb33683655a",
   "metadata": {},
   "source": [
    "# question 9"
   ]
  },
  {
   "cell_type": "code",
   "execution_count": 30,
   "id": "cf9f0eeb-45b1-445e-a480-1282e8537f64",
   "metadata": {},
   "outputs": [
    {
     "name": "stdin",
     "output_type": "stream",
     "text": [
      "Kitni lines ka triangle chahte ho?  5\n"
     ]
    },
    {
     "name": "stdout",
     "output_type": "stream",
     "text": [
      "* \n",
      "* * \n",
      "* * * \n",
      "* * * * \n",
      "* * * * * \n"
     ]
    }
   ],
   "source": [
    "rows = int(input(\"Kitni lines ka triangle chahte ho? \"))\n",
    "\n",
    "i = 1\n",
    "while i <= rows:\n",
    "    j = 1\n",
    "    while j <= i:\n",
    "        print(\"*\", end=\" \")\n",
    "        j = j + 1\n",
    "    print()\n",
    "    i = i + 1\n"
   ]
  },
  {
   "cell_type": "markdown",
   "id": "1fb47cf8-1a60-4ced-8200-b5e61c84ce16",
   "metadata": {},
   "source": [
    "# question 10"
   ]
  },
  {
   "cell_type": "code",
   "execution_count": null,
   "id": "9f563dbd-75e6-4197-ab21-e74356244248",
   "metadata": {},
   "outputs": [],
   "source": [
    "for num in range(1, 21):\n",
    "    if num % 4 == 0:\n",
    "        continue\n",
    "    if num % 7 == 0:\n",
    "        break\n",
    "    print(num)\n"
   ]
  }
 ],
 "metadata": {
  "kernelspec": {
   "display_name": "Python [conda env:base] *",
   "language": "python",
   "name": "conda-base-py"
  },
  "language_info": {
   "codemirror_mode": {
    "name": "ipython",
    "version": 3
   },
   "file_extension": ".py",
   "mimetype": "text/x-python",
   "name": "python",
   "nbconvert_exporter": "python",
   "pygments_lexer": "ipython3",
   "version": "3.12.7"
  },
  "panel-cell-order": [
   "ae3ce238-093a-44d8-b74a-22939f4e7fb0"
  ]
 },
 "nbformat": 4,
 "nbformat_minor": 5
}
