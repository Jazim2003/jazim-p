{
 "cells": [
  {
   "cell_type": "markdown",
   "id": "f4da1088-2755-40a6-9cb7-ea6d0276b6f7",
   "metadata": {},
   "source": [
    "# question 1"
   ]
  },
  {
   "cell_type": "code",
   "execution_count": 7,
   "id": "99f602c1-caf3-43ce-8942-32b7ff75d157",
   "metadata": {},
   "outputs": [
    {
     "name": "stdout",
     "output_type": "stream",
     "text": [
      "Hello, my name is John and I am 35 years old.\n",
      "Employee M123 is working in HR department.\n",
      "Manager John is managing the team in the HR department.\n"
     ]
    }
   ],
   "source": [
    "class Person:\n",
    "    def __init__(self, name, age):\n",
    "        self.name = name\n",
    "        self.age = age\n",
    "\n",
    "    def introduce(self):\n",
    "        print(f\"Hello, my name is {self.name} and I am {self.age} years old.\")\n",
    "\n",
    "\n",
    "class Employee:\n",
    "    def __init__(self, employee_id, department):\n",
    "        self.employee_id = employee_id\n",
    "        self.department = department\n",
    "\n",
    "    def work(self):\n",
    "        print(f\"Employee {self.employee_id} is working in {self.department} department.\")\n",
    "\n",
    "\n",
    "class Manager(Person, Employee):\n",
    "    def __init__(self, name, age, employee_id, department):\n",
    "        # Initialize both parent classes\n",
    "        Person.__init__(self, name, age)\n",
    "        Employee.__init__(self, employee_id, department)\n",
    "\n",
    "    def manage(self):\n",
    "        print(f\"Manager {self.name} is managing the team in the {self.department} department.\")\n",
    "\n",
    "\n",
    "# Instantiate a Manager object\n",
    "manager = Manager(\"John\", 35, \"M123\", \"HR\")\n",
    "\n",
    "# Call all methods\n",
    "manager.introduce()\n",
    "manager.work()\n",
    "manager.manage()\n"
   ]
  },
  {
   "cell_type": "markdown",
   "id": "ecfa6652-7bfa-41d0-a589-0c6b382eec03",
   "metadata": {},
   "source": [
    "# question 2"
   ]
  },
  {
   "cell_type": "code",
   "execution_count": 9,
   "id": "c7a92686-babd-4394-844d-639ff496f6bb",
   "metadata": {},
   "outputs": [
    {
     "name": "stdout",
     "output_type": "stream",
     "text": [
      "Hello!\n",
      "Hello, John!\n",
      "Good morning, John!\n"
     ]
    }
   ],
   "source": [
    "class Greeting:\n",
    "    def greet(self, *args):\n",
    "        if len(args) == 0:\n",
    "            print(\"Hello!\")\n",
    "        elif len(args) == 1:\n",
    "            name = args[0]\n",
    "            print(f\"Hello, {name}!\")\n",
    "        elif len(args) == 2:\n",
    "            name, custom_greeting = args\n",
    "            print(f\"{custom_greeting}, {name}!\")\n",
    "        else:\n",
    "            print(\"Invalid number of arguments.\")\n",
    "\n",
    "\n",
    "# Create a Greeting object\n",
    "greeter = Greeting()\n",
    "\n",
    "# Demonstrate polymorphic behavior\n",
    "greeter.greet()                      # No arguments\n",
    "greeter.greet(\"John\")               # One argument\n",
    "greeter.greet(\"John\", \"Good morning\")  # Two arguments\n"
   ]
  },
  {
   "cell_type": "markdown",
   "id": "c91166d0-853b-4961-aa39-c7ad26f827de",
   "metadata": {},
   "source": [
    "# question 3"
   ]
  },
  {
   "cell_type": "code",
   "execution_count": 22,
   "id": "fd30dd2f-8d45-481f-beee-f999a600981c",
   "metadata": {},
   "outputs": [],
   "source": [
    "class SecuritySystem:\n",
    "    def __init__(self, pin):\n",
    "        self.__pin = pin  # Private attribute\n",
    "\n",
    "    def validate_pin(self, pin):\n",
    "        if pin == self.__pin:\n",
    "            print(\"PIN validated successfully.\")\n",
    "            return True\n",
    "        else:\n",
    "            print(\"Invalid PIN.\")\n",
    "            return False\n",
    "\n",
    "    def change_pin(self, old_pin, new_pin):\n",
    "        if not self.validate_pin(old_pin):\n",
    "            print(\"Incorrect old PIN. PIN not changed.\")\n",
    "            return\n",
    "        if not (isinstance(new_pin, int) and 1000 <= new_pin <= 9999):\n",
    "            print(\"New PIN must be a 4-digit number.\")\n",
    "            return\n",
    "        self.__pin = new_pin\n",
    "        print(\"PIN changed successfully.\")\n"
   ]
  },
  {
   "cell_type": "code",
   "execution_count": 24,
   "id": "993c9a5c-b523-4c50-83de-41ad95aa96fc",
   "metadata": {},
   "outputs": [
    {
     "name": "stdout",
     "output_type": "stream",
     "text": [
      "PIN validated successfully.\n",
      "Invalid PIN.\n",
      "PIN validated successfully.\n",
      "PIN changed successfully.\n",
      "PIN validated successfully.\n",
      "New PIN must be a 4-digit number.\n",
      "Invalid PIN.\n",
      "Incorrect old PIN. PIN not changed.\n"
     ]
    }
   ],
   "source": [
    "# Create an instance with initial PIN 1234\n",
    "system = SecuritySystem(1234)\n",
    "\n",
    "# Validate with correct PIN\n",
    "system.validate_pin(1234)\n",
    "\n",
    "# Validate with incorrect PIN\n",
    "system.validate_pin(9999)\n",
    "\n",
    "# Change PIN: correct old PIN, valid new PIN\n",
    "system.change_pin(1234, 4321)\n",
    "\n",
    "# Change PIN: correct old PIN, invalid new PIN\n",
    "system.change_pin(4321, 123)  # Less than 4-digit\n",
    "\n",
    "# Change PIN: incorrect old PIN\n",
    "system.change_pin(1111, 5678)\n"
   ]
  },
  {
   "cell_type": "markdown",
   "id": "a5d60862-38a9-47a0-9495-87818da79d7c",
   "metadata": {},
   "source": [
    "# question 4"
   ]
  },
  {
   "cell_type": "code",
   "execution_count": 26,
   "id": "51e2ddfb-dd15-44fe-b56a-eea51c05c2c0",
   "metadata": {},
   "outputs": [
    {
     "name": "stdout",
     "output_type": "stream",
     "text": [
      "Area of Circle: 78.5\n",
      "Area of Rectangle: 24\n"
     ]
    }
   ],
   "source": [
    "from abc import ABC, abstractmethod\n",
    "import math\n",
    "\n",
    "# Abstract class\n",
    "class Shape(ABC):\n",
    "    @abstractmethod\n",
    "    def area(self):\n",
    "        pass\n",
    "\n",
    "# Concrete class for Circle\n",
    "class Circle(Shape):\n",
    "    def __init__(self, radius):\n",
    "        self.radius = radius\n",
    "\n",
    "    def area(self):\n",
    "        return round(math.pi * self.radius ** 2, 1)\n",
    "\n",
    "# Concrete class for Rectangle\n",
    "class Rectangle(Shape):\n",
    "    def __init__(self, width, height):\n",
    "        self.width = width\n",
    "        self.height = height\n",
    "\n",
    "    def area(self):\n",
    "        return self.width * self.height\n",
    "\n",
    "# Create instances and calculate areas\n",
    "circle = Circle(5)        # π × 5^2 = 78.5 (approx)\n",
    "rectangle = Rectangle(6, 4)  # 6 × 4 = 24\n",
    "\n",
    "# Output the areas\n",
    "print(f\"Area of Circle: {circle.area()}\")\n",
    "print(f\"Area of Rectangle: {rectangle.area()}\")\n"
   ]
  },
  {
   "cell_type": "markdown",
   "id": "98d12f49-3f87-4607-9a95-ee1dbded1fa1",
   "metadata": {},
   "source": [
    "# question 5"
   ]
  },
  {
   "cell_type": "code",
   "execution_count": null,
   "id": "af197b95-9113-4c1c-8239-d75a3f55e0b4",
   "metadata": {},
   "outputs": [],
   "source": []
  }
 ],
 "metadata": {
  "kernelspec": {
   "display_name": "Python [conda env:base] *",
   "language": "python",
   "name": "conda-base-py"
  },
  "language_info": {
   "codemirror_mode": {
    "name": "ipython",
    "version": 3
   },
   "file_extension": ".py",
   "mimetype": "text/x-python",
   "name": "python",
   "nbconvert_exporter": "python",
   "pygments_lexer": "ipython3",
   "version": "3.12.7"
  },
  "panel-cell-order": [
   "ae3ce238-093a-44d8-b74a-22939f4e7fb0"
  ]
 },
 "nbformat": 4,
 "nbformat_minor": 5
}
