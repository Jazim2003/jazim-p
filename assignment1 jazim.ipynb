{
 "cells": [
  {
   "cell_type": "markdown",
   "id": "3625387d-6f6a-4d65-b786-0664d6483b8d",
   "metadata": {},
   "source": [
    "# QUESTION1"
   ]
  },
  {
   "cell_type": "code",
   "execution_count": 1,
   "id": "86aca504-1c1a-4028-9850-29a3e174f80a",
   "metadata": {},
   "outputs": [],
   "source": [
    "a = 15\n",
    "b = 4"
   ]
  },
  {
   "cell_type": "code",
   "execution_count": 3,
   "id": "c501cafa-e11f-4a09-8d54-76b337e2f452",
   "metadata": {},
   "outputs": [
    {
     "data": {
      "text/plain": [
       "15"
      ]
     },
     "execution_count": 3,
     "metadata": {},
     "output_type": "execute_result"
    }
   ],
   "source": [
    "a"
   ]
  },
  {
   "cell_type": "code",
   "execution_count": 5,
   "id": "e67762ab-b5ba-44b1-9cd0-7d5f1eb21f31",
   "metadata": {},
   "outputs": [
    {
     "data": {
      "text/plain": [
       "4"
      ]
     },
     "execution_count": 5,
     "metadata": {},
     "output_type": "execute_result"
    }
   ],
   "source": [
    "b"
   ]
  },
  {
   "cell_type": "code",
   "execution_count": 7,
   "id": "d32465dc-8bc7-4783-90b0-ae4ac72c550e",
   "metadata": {},
   "outputs": [],
   "source": [
    "#SUM"
   ]
  },
  {
   "cell_type": "code",
   "execution_count": 9,
   "id": "acc4d57d-9b1b-4351-b666-d7a3ca23c7f9",
   "metadata": {},
   "outputs": [
    {
     "name": "stdout",
     "output_type": "stream",
     "text": [
      "19\n"
     ]
    }
   ],
   "source": [
    "print(a + b)"
   ]
  },
  {
   "cell_type": "code",
   "execution_count": 11,
   "id": "5b5cdedc-9f39-4f66-bcd2-a670478e3238",
   "metadata": {},
   "outputs": [],
   "source": [
    "#diffrence"
   ]
  },
  {
   "cell_type": "code",
   "execution_count": 13,
   "id": "ee8c7a3a-98ee-4e6e-b47c-093cfc96d6ba",
   "metadata": {},
   "outputs": [
    {
     "name": "stdout",
     "output_type": "stream",
     "text": [
      "11\n"
     ]
    }
   ],
   "source": [
    "print(a - b)"
   ]
  },
  {
   "cell_type": "code",
   "execution_count": 15,
   "id": "907fead2-3aaf-49bc-b74a-44618faa5a0f",
   "metadata": {},
   "outputs": [],
   "source": [
    "#product"
   ]
  },
  {
   "cell_type": "code",
   "execution_count": 17,
   "id": "38ef6682-ce66-4f2c-b343-080894d315b6",
   "metadata": {},
   "outputs": [
    {
     "name": "stdout",
     "output_type": "stream",
     "text": [
      "60\n"
     ]
    }
   ],
   "source": [
    "print(a * b)"
   ]
  },
  {
   "cell_type": "code",
   "execution_count": 21,
   "id": "55237a05-21bb-42b5-bd31-6ad2099bf767",
   "metadata": {},
   "outputs": [],
   "source": [
    "#division "
   ]
  },
  {
   "cell_type": "code",
   "execution_count": 23,
   "id": "2179e9ae-ab7b-44d3-bc0a-3f787e789fd5",
   "metadata": {},
   "outputs": [
    {
     "name": "stdout",
     "output_type": "stream",
     "text": [
      "3.75\n"
     ]
    }
   ],
   "source": [
    "print(a / b)"
   ]
  },
  {
   "cell_type": "code",
   "execution_count": 25,
   "id": "6037c640-1fac-4aaa-8ea4-8cd86fd47480",
   "metadata": {},
   "outputs": [],
   "source": [
    "# floor division "
   ]
  },
  {
   "cell_type": "code",
   "execution_count": 27,
   "id": "ec80adbc-1887-4c70-a9c2-023b1dfde128",
   "metadata": {},
   "outputs": [
    {
     "name": "stdout",
     "output_type": "stream",
     "text": [
      "3\n"
     ]
    }
   ],
   "source": [
    "print(a // b)"
   ]
  },
  {
   "cell_type": "code",
   "execution_count": 29,
   "id": "1c90a872-6d5c-4c17-9678-df48566505cb",
   "metadata": {},
   "outputs": [],
   "source": [
    "# modulus "
   ]
  },
  {
   "cell_type": "code",
   "execution_count": 31,
   "id": "0cf9e3db-648a-4b20-822d-d412e10c3201",
   "metadata": {},
   "outputs": [
    {
     "name": "stdout",
     "output_type": "stream",
     "text": [
      "3\n"
     ]
    }
   ],
   "source": [
    "print(a % b)"
   ]
  },
  {
   "cell_type": "markdown",
   "id": "4de2b0ce-29ee-4e32-a4ce-63dc020a084f",
   "metadata": {},
   "source": [
    "# QUESTION 2"
   ]
  },
  {
   "cell_type": "code",
   "execution_count": 35,
   "id": "094bb7d2-e7b5-4e25-a8a4-f7ad74e8081d",
   "metadata": {},
   "outputs": [],
   "source": [
    "num1 = 10      \n",
    "num2 = 5.6     \n",
    "num3 = 4.43   "
   ]
  },
  {
   "cell_type": "code",
   "execution_count": 37,
   "id": "0891b0ff-4aa8-44dc-91d7-142d05afddf6",
   "metadata": {},
   "outputs": [
    {
     "data": {
      "text/plain": [
       "10"
      ]
     },
     "execution_count": 37,
     "metadata": {},
     "output_type": "execute_result"
    }
   ],
   "source": [
    "num1"
   ]
  },
  {
   "cell_type": "code",
   "execution_count": 39,
   "id": "bf6d2681-f5a6-4dbe-aff6-708e0c5c938e",
   "metadata": {},
   "outputs": [
    {
     "data": {
      "text/plain": [
       "5.6"
      ]
     },
     "execution_count": 39,
     "metadata": {},
     "output_type": "execute_result"
    }
   ],
   "source": [
    "num2"
   ]
  },
  {
   "cell_type": "code",
   "execution_count": 41,
   "id": "ed32a531-625d-4c25-9e08-3ea686e0ba4c",
   "metadata": {},
   "outputs": [
    {
     "data": {
      "text/plain": [
       "4.43"
      ]
     },
     "execution_count": 41,
     "metadata": {},
     "output_type": "execute_result"
    }
   ],
   "source": [
    "num3"
   ]
  },
  {
   "cell_type": "code",
   "execution_count": 45,
   "id": "87f3c10f-3ca0-4306-b59b-424e78709635",
   "metadata": {},
   "outputs": [
    {
     "data": {
      "text/plain": [
       "10.0"
      ]
     },
     "execution_count": 45,
     "metadata": {},
     "output_type": "execute_result"
    }
   ],
   "source": [
    "float(num1)"
   ]
  },
  {
   "cell_type": "code",
   "execution_count": 47,
   "id": "19fd4eb4-8693-464c-bf74-ee3ce2440e26",
   "metadata": {},
   "outputs": [
    {
     "data": {
      "text/plain": [
       "5"
      ]
     },
     "execution_count": 47,
     "metadata": {},
     "output_type": "execute_result"
    }
   ],
   "source": [
    "int(num2)"
   ]
  },
  {
   "cell_type": "code",
   "execution_count": 49,
   "id": "b6ee80ef-e073-490b-b755-46f895b53a5f",
   "metadata": {},
   "outputs": [
    {
     "data": {
      "text/plain": [
       "'4.43'"
      ]
     },
     "execution_count": 49,
     "metadata": {},
     "output_type": "execute_result"
    }
   ],
   "source": [
    "str(num3)"
   ]
  },
  {
   "cell_type": "markdown",
   "id": "18aaf794-0c91-4557-85e3-2cd544e7365a",
   "metadata": {},
   "source": [
    "# QUESTION 3"
   ]
  },
  {
   "cell_type": "code",
   "execution_count": 52,
   "id": "e798a3a1-c956-4514-a5fa-40c343816582",
   "metadata": {},
   "outputs": [],
   "source": [
    "fruits = [\"apple\", \"banana\", \"cherry\", \"coconut\", \"pineapple\", \"mango\", \"orange\"]"
   ]
  },
  {
   "cell_type": "code",
   "execution_count": 54,
   "id": "f917701a-4610-424a-af65-af0d042ae95d",
   "metadata": {},
   "outputs": [
    {
     "data": {
      "text/plain": [
       "['apple', 'banana', 'cherry', 'coconut', 'pineapple', 'mango', 'orange']"
      ]
     },
     "execution_count": 54,
     "metadata": {},
     "output_type": "execute_result"
    }
   ],
   "source": [
    "fruits"
   ]
  },
  {
   "cell_type": "code",
   "execution_count": 87,
   "id": "dfe41f67-98f9-4b10-9e05-7166ca7c485b",
   "metadata": {},
   "outputs": [
    {
     "name": "stdout",
     "output_type": "stream",
     "text": [
      "apple\n"
     ]
    }
   ],
   "source": [
    "print(fruits[0])"
   ]
  },
  {
   "cell_type": "code",
   "execution_count": 89,
   "id": "3f286acd-a85d-442d-adb0-02b79cc4ad17",
   "metadata": {},
   "outputs": [
    {
     "name": "stdout",
     "output_type": "stream",
     "text": [
      "orange\n"
     ]
    }
   ],
   "source": [
    "print(fruits[-1])"
   ]
  },
  {
   "cell_type": "code",
   "execution_count": 91,
   "id": "d8e26ea7-2ac6-4529-905f-ff0470a8045d",
   "metadata": {},
   "outputs": [
    {
     "name": "stdout",
     "output_type": "stream",
     "text": [
      "coconut\n"
     ]
    }
   ],
   "source": [
    "print(fruits[3])"
   ]
  },
  {
   "cell_type": "markdown",
   "id": "290f470c-0b2f-45e5-bf0a-eb7a0bcf8a9b",
   "metadata": {},
   "source": [
    "# question 4"
   ]
  },
  {
   "cell_type": "code",
   "execution_count": 107,
   "id": "8688b8bb-7956-4a8e-9567-0df5f03e9892",
   "metadata": {},
   "outputs": [],
   "source": [
    "numbers = [10, 20, 30, 40, 50]"
   ]
  },
  {
   "cell_type": "code",
   "execution_count": 113,
   "id": "49d80f52-674d-49d1-94c0-8d136cb102aa",
   "metadata": {},
   "outputs": [
    {
     "name": "stdout",
     "output_type": "stream",
     "text": [
      "[10, 20, 30]\n"
     ]
    }
   ],
   "source": [
    "print(numbers[0:3])"
   ]
  },
  {
   "cell_type": "code",
   "execution_count": 121,
   "id": "a5f21f2f-7eb7-4ebe-8433-3b0cb963da41",
   "metadata": {},
   "outputs": [
    {
     "name": "stdout",
     "output_type": "stream",
     "text": [
      "[40, 50]\n"
     ]
    }
   ],
   "source": [
    "print(numbers[-2:])"
   ]
  },
  {
   "cell_type": "code",
   "execution_count": 127,
   "id": "a3fe3f25-ae08-48f2-9a99-d2745f9f6304",
   "metadata": {},
   "outputs": [
    {
     "name": "stdout",
     "output_type": "stream",
     "text": [
      "[10, 20, 30, 40]\n"
     ]
    }
   ],
   "source": [
    "print(numbers[:-1])"
   ]
  },
  {
   "cell_type": "code",
   "execution_count": 129,
   "id": "b108ece4-812e-4b36-89d8-0a3be588109d",
   "metadata": {},
   "outputs": [
    {
     "name": "stdout",
     "output_type": "stream",
     "text": [
      "[50, 40, 30, 20, 10]\n"
     ]
    }
   ],
   "source": [
    "print(numbers[::-1])"
   ]
  },
  {
   "cell_type": "code",
   "execution_count": 131,
   "id": "712adbe2-957a-4c1a-8570-8484364cc180",
   "metadata": {},
   "outputs": [
    {
     "name": "stdout",
     "output_type": "stream",
     "text": [
      "[10, 30, 50]\n"
     ]
    }
   ],
   "source": [
    "print(numbers[::2])"
   ]
  },
  {
   "cell_type": "markdown",
   "id": "6a711fa4-58ee-431b-b5b3-4310a62f939d",
   "metadata": {},
   "source": [
    "# QUESTION 5"
   ]
  },
  {
   "cell_type": "code",
   "execution_count": 2,
   "id": "4759c5e3-2cf0-4125-b8f6-ab8ef19c34ed",
   "metadata": {},
   "outputs": [],
   "source": [
    "nums = [1, 2, 3]"
   ]
  },
  {
   "cell_type": "code",
   "execution_count": 4,
   "id": "6868124d-eef2-4803-8228-06201c6e6827",
   "metadata": {},
   "outputs": [
    {
     "data": {
      "text/plain": [
       "['__add__',\n",
       " '__class__',\n",
       " '__class_getitem__',\n",
       " '__contains__',\n",
       " '__delattr__',\n",
       " '__delitem__',\n",
       " '__dir__',\n",
       " '__doc__',\n",
       " '__eq__',\n",
       " '__format__',\n",
       " '__ge__',\n",
       " '__getattribute__',\n",
       " '__getitem__',\n",
       " '__getstate__',\n",
       " '__gt__',\n",
       " '__hash__',\n",
       " '__iadd__',\n",
       " '__imul__',\n",
       " '__init__',\n",
       " '__init_subclass__',\n",
       " '__iter__',\n",
       " '__le__',\n",
       " '__len__',\n",
       " '__lt__',\n",
       " '__mul__',\n",
       " '__ne__',\n",
       " '__new__',\n",
       " '__reduce__',\n",
       " '__reduce_ex__',\n",
       " '__repr__',\n",
       " '__reversed__',\n",
       " '__rmul__',\n",
       " '__setattr__',\n",
       " '__setitem__',\n",
       " '__sizeof__',\n",
       " '__str__',\n",
       " '__subclasshook__',\n",
       " 'append',\n",
       " 'clear',\n",
       " 'copy',\n",
       " 'count',\n",
       " 'extend',\n",
       " 'index',\n",
       " 'insert',\n",
       " 'pop',\n",
       " 'remove',\n",
       " 'reverse',\n",
       " 'sort']"
      ]
     },
     "execution_count": 4,
     "metadata": {},
     "output_type": "execute_result"
    }
   ],
   "source": [
    "dir(list)"
   ]
  },
  {
   "cell_type": "code",
   "execution_count": 19,
   "id": "968bfa28-1c5a-41e8-84f6-61594f27ed50",
   "metadata": {},
   "outputs": [],
   "source": [
    "nums.append(10)"
   ]
  },
  {
   "cell_type": "code",
   "execution_count": 27,
   "id": "086d074a-5db3-4cdf-b71c-9421c99cf32a",
   "metadata": {},
   "outputs": [
    {
     "name": "stdout",
     "output_type": "stream",
     "text": [
      "[1, 2, 3, 10, 10, 10]\n"
     ]
    }
   ],
   "source": [
    "print(nums)"
   ]
  },
  {
   "cell_type": "code",
   "execution_count": 29,
   "id": "601c1f38-156e-4e2f-8ab8-5310246c1375",
   "metadata": {},
   "outputs": [],
   "source": [
    "nums.remove(10)"
   ]
  },
  {
   "cell_type": "code",
   "execution_count": 32,
   "id": "ebc43e63-ec2a-4b85-8387-9d9eb42744a6",
   "metadata": {},
   "outputs": [
    {
     "name": "stdout",
     "output_type": "stream",
     "text": [
      "[1, 2, 3, 10, 10]\n"
     ]
    }
   ],
   "source": [
    "print(nums)"
   ]
  },
  {
   "cell_type": "code",
   "execution_count": 34,
   "id": "692f22e4-97ee-4f06-a3e4-c3e4e2b05afe",
   "metadata": {},
   "outputs": [],
   "source": [
    "nums.remove(10)"
   ]
  },
  {
   "cell_type": "code",
   "execution_count": 36,
   "id": "6779aa4c-81e3-41a1-bcaa-4433c35b6689",
   "metadata": {},
   "outputs": [
    {
     "name": "stdout",
     "output_type": "stream",
     "text": [
      "[1, 2, 3, 10]\n"
     ]
    }
   ],
   "source": [
    "print(nums)"
   ]
  },
  {
   "cell_type": "markdown",
   "id": "b7ba5d26-498a-47a7-b3f7-c8487f23528c",
   "metadata": {},
   "source": [
    "# QUESTION 6"
   ]
  },
  {
   "cell_type": "code",
   "execution_count": 39,
   "id": "7052ae5f-0b78-402a-b454-0f4bc233f92f",
   "metadata": {},
   "outputs": [],
   "source": [
    "nums = [1, 2, 3]"
   ]
  },
  {
   "cell_type": "code",
   "execution_count": 41,
   "id": "154a4c32-44af-4137-996c-eb9e8ba8bd61",
   "metadata": {},
   "outputs": [
    {
     "data": {
      "text/plain": [
       "[1, 2, 3]"
      ]
     },
     "execution_count": 41,
     "metadata": {},
     "output_type": "execute_result"
    }
   ],
   "source": [
    "nums"
   ]
  },
  {
   "cell_type": "code",
   "execution_count": 49,
   "id": "2d60740b-88c1-4ee2-ad28-9a35ab9ab0cc",
   "metadata": {},
   "outputs": [],
   "source": [
    "nums.insert(1,99)"
   ]
  },
  {
   "cell_type": "code",
   "execution_count": 52,
   "id": "91e40394-748e-434e-83a2-4234a3bb7912",
   "metadata": {},
   "outputs": [
    {
     "name": "stdout",
     "output_type": "stream",
     "text": [
      "[1, 99, 2, 3]\n"
     ]
    }
   ],
   "source": [
    "print(nums)"
   ]
  },
  {
   "cell_type": "markdown",
   "id": "2a32ac4c-cc88-4806-95f2-6a923aec1576",
   "metadata": {},
   "source": [
    "# QUESTION 7"
   ]
  },
  {
   "cell_type": "code",
   "execution_count": 58,
   "id": "dd4f2cc4-ab15-4b33-a6c3-f0528ac3c4e3",
   "metadata": {},
   "outputs": [],
   "source": [
    "nums = [1, 2, 3]"
   ]
  },
  {
   "cell_type": "code",
   "execution_count": 61,
   "id": "2712eaef-7c82-4493-8a11-6ff54191d185",
   "metadata": {},
   "outputs": [
    {
     "data": {
      "text/plain": [
       "[1, 2, 3]"
      ]
     },
     "execution_count": 61,
     "metadata": {},
     "output_type": "execute_result"
    }
   ],
   "source": [
    "nums"
   ]
  },
  {
   "cell_type": "code",
   "execution_count": 65,
   "id": "4fa5064f-7ed5-41e0-8c72-d4b8bebaf857",
   "metadata": {},
   "outputs": [],
   "source": [
    "nums.extend([4,5])"
   ]
  },
  {
   "cell_type": "code",
   "execution_count": 67,
   "id": "c43e4ecc-8c14-4f2d-8478-085151993306",
   "metadata": {},
   "outputs": [
    {
     "data": {
      "text/plain": [
       "[1, 2, 3, 4, 5]"
      ]
     },
     "execution_count": 67,
     "metadata": {},
     "output_type": "execute_result"
    }
   ],
   "source": [
    "nums"
   ]
  },
  {
   "cell_type": "markdown",
   "id": "61391026-69a8-4937-b2c2-0f58d2c999c7",
   "metadata": {},
   "source": [
    "# QUESTION 8"
   ]
  },
  {
   "cell_type": "code",
   "execution_count": 70,
   "id": "7df80d17-fa7a-4c26-8384-cd1485045769",
   "metadata": {},
   "outputs": [],
   "source": [
    "nums = [4, 1, 3, 2]"
   ]
  },
  {
   "cell_type": "code",
   "execution_count": 72,
   "id": "738f1fb6-fb80-4087-830d-85c7c9c97ff2",
   "metadata": {},
   "outputs": [
    {
     "data": {
      "text/plain": [
       "[4, 1, 3, 2]"
      ]
     },
     "execution_count": 72,
     "metadata": {},
     "output_type": "execute_result"
    }
   ],
   "source": [
    "nums"
   ]
  },
  {
   "cell_type": "code",
   "execution_count": 80,
   "id": "f893673f-dac5-43c1-b878-22bd553e9bbd",
   "metadata": {},
   "outputs": [],
   "source": [
    "nums.sort()"
   ]
  },
  {
   "cell_type": "code",
   "execution_count": 82,
   "id": "b79d3718-2533-4f46-86f8-0f725aa8af34",
   "metadata": {},
   "outputs": [
    {
     "data": {
      "text/plain": [
       "[1, 2, 3, 4]"
      ]
     },
     "execution_count": 82,
     "metadata": {},
     "output_type": "execute_result"
    }
   ],
   "source": [
    "nums"
   ]
  },
  {
   "cell_type": "markdown",
   "id": "e0b984ef-7b07-4731-8bbe-ecb0716bde57",
   "metadata": {},
   "source": [
    "# QUESTION 9"
   ]
  },
  {
   "cell_type": "code",
   "execution_count": 85,
   "id": "235bbd05-0356-4806-b95d-90949fbbe799",
   "metadata": {},
   "outputs": [],
   "source": [
    "order = [\"burger\", \"fries\", \"coke\"]"
   ]
  },
  {
   "cell_type": "code",
   "execution_count": 89,
   "id": "6f717739-d691-4a84-aacc-7fb25f34923b",
   "metadata": {},
   "outputs": [],
   "source": [
    "order.append(\"ice cream\")"
   ]
  },
  {
   "cell_type": "code",
   "execution_count": 91,
   "id": "2306a7fd-3324-4489-9eda-923b04d3bf15",
   "metadata": {},
   "outputs": [
    {
     "data": {
      "text/plain": [
       "['burger', 'fries', 'coke', 'ice cream']"
      ]
     },
     "execution_count": 91,
     "metadata": {},
     "output_type": "execute_result"
    }
   ],
   "source": [
    "order"
   ]
  },
  {
   "cell_type": "markdown",
   "id": "a3dad35d-7302-4301-a706-039bdc36f5a6",
   "metadata": {},
   "source": [
    "# QUESTION 10"
   ]
  },
  {
   "cell_type": "code",
   "execution_count": 94,
   "id": "0a40469f-e624-4b11-ab85-53c68d09a254",
   "metadata": {},
   "outputs": [],
   "source": [
    "passengers = [\"Ali\", \"Zara\", \"Ahmed\"]"
   ]
  },
  {
   "cell_type": "code",
   "execution_count": 96,
   "id": "ffb40fa6-b574-43b5-bdcc-184a57e926df",
   "metadata": {},
   "outputs": [
    {
     "data": {
      "text/plain": [
       "['Ali', 'Zara', 'Ahmed']"
      ]
     },
     "execution_count": 96,
     "metadata": {},
     "output_type": "execute_result"
    }
   ],
   "source": [
    "passengers"
   ]
  },
  {
   "cell_type": "code",
   "execution_count": 100,
   "id": "3dfe0e0d-449c-4881-8d58-05ae694bd0a3",
   "metadata": {},
   "outputs": [],
   "source": [
    "passengers.insert(2,\"Sara\")"
   ]
  },
  {
   "cell_type": "code",
   "execution_count": 102,
   "id": "966785cd-7c1f-4ce6-99ae-94246bdf4ee6",
   "metadata": {},
   "outputs": [
    {
     "data": {
      "text/plain": [
       "['Ali', 'Zara', 'Sara', 'Ahmed']"
      ]
     },
     "execution_count": 102,
     "metadata": {},
     "output_type": "execute_result"
    }
   ],
   "source": [
    "passengers"
   ]
  },
  {
   "cell_type": "code",
   "execution_count": 104,
   "id": "67d54c94-e47a-43f4-87bc-59e1c3e0ea55",
   "metadata": {},
   "outputs": [],
   "source": [
    "passengers.remove(\"Zara\")"
   ]
  },
  {
   "cell_type": "code",
   "execution_count": 106,
   "id": "4661f34e-0e81-4ec1-949c-f4387ab40493",
   "metadata": {},
   "outputs": [
    {
     "data": {
      "text/plain": [
       "['Ali', 'Sara', 'Ahmed']"
      ]
     },
     "execution_count": 106,
     "metadata": {},
     "output_type": "execute_result"
    }
   ],
   "source": [
    "passengers"
   ]
  },
  {
   "cell_type": "code",
   "execution_count": 108,
   "id": "3dffb197-62aa-4e48-94d1-519abff48c05",
   "metadata": {},
   "outputs": [],
   "source": [
    "passengers.reverse()"
   ]
  },
  {
   "cell_type": "code",
   "execution_count": 110,
   "id": "1a588d97-58ec-41e9-8643-240dab60cd7f",
   "metadata": {},
   "outputs": [
    {
     "data": {
      "text/plain": [
       "['Ahmed', 'Sara', 'Ali']"
      ]
     },
     "execution_count": 110,
     "metadata": {},
     "output_type": "execute_result"
    }
   ],
   "source": [
    "passengers"
   ]
  },
  {
   "cell_type": "code",
   "execution_count": null,
   "id": "0e53306e-3ce7-41a2-9165-e4cdbef15d4c",
   "metadata": {},
   "outputs": [],
   "source": []
  }
 ],
 "metadata": {
  "kernelspec": {
   "display_name": "Python [conda env:base] *",
   "language": "python",
   "name": "conda-base-py"
  },
  "language_info": {
   "codemirror_mode": {
    "name": "ipython",
    "version": 3
   },
   "file_extension": ".py",
   "mimetype": "text/x-python",
   "name": "python",
   "nbconvert_exporter": "python",
   "pygments_lexer": "ipython3",
   "version": "3.12.7"
  },
  "panel-cell-order": [
   "ae3ce238-093a-44d8-b74a-22939f4e7fb0"
  ]
 },
 "nbformat": 4,
 "nbformat_minor": 5
}
