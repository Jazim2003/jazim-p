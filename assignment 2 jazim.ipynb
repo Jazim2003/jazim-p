{
 "cells": [
  {
   "cell_type": "markdown",
   "id": "777bfe0e-fdef-4bf9-bb79-57df8538aef5",
   "metadata": {},
   "source": [
    "# question 1"
   ]
  },
  {
   "cell_type": "code",
   "execution_count": 2,
   "id": "6ecb45e2-d8f5-4a61-af7c-8e0515b92e30",
   "metadata": {},
   "outputs": [],
   "source": [
    "text = 'hello python world'"
   ]
  },
  {
   "cell_type": "code",
   "execution_count": 4,
   "id": "f65fb047-4ce3-4b32-ba38-736b2b0a1c1a",
   "metadata": {},
   "outputs": [
    {
     "data": {
      "text/plain": [
       "'hello python world'"
      ]
     },
     "execution_count": 4,
     "metadata": {},
     "output_type": "execute_result"
    }
   ],
   "source": [
    "text "
   ]
  },
  {
   "cell_type": "code",
   "execution_count": 6,
   "id": "8af9f04a-4203-4aec-ad66-9525135978b4",
   "metadata": {},
   "outputs": [
    {
     "data": {
      "text/plain": [
       "['__add__',\n",
       " '__class__',\n",
       " '__contains__',\n",
       " '__delattr__',\n",
       " '__dir__',\n",
       " '__doc__',\n",
       " '__eq__',\n",
       " '__format__',\n",
       " '__ge__',\n",
       " '__getattribute__',\n",
       " '__getitem__',\n",
       " '__getnewargs__',\n",
       " '__getstate__',\n",
       " '__gt__',\n",
       " '__hash__',\n",
       " '__init__',\n",
       " '__init_subclass__',\n",
       " '__iter__',\n",
       " '__le__',\n",
       " '__len__',\n",
       " '__lt__',\n",
       " '__mod__',\n",
       " '__mul__',\n",
       " '__ne__',\n",
       " '__new__',\n",
       " '__reduce__',\n",
       " '__reduce_ex__',\n",
       " '__repr__',\n",
       " '__rmod__',\n",
       " '__rmul__',\n",
       " '__setattr__',\n",
       " '__sizeof__',\n",
       " '__str__',\n",
       " '__subclasshook__',\n",
       " 'capitalize',\n",
       " 'casefold',\n",
       " 'center',\n",
       " 'count',\n",
       " 'encode',\n",
       " 'endswith',\n",
       " 'expandtabs',\n",
       " 'find',\n",
       " 'format',\n",
       " 'format_map',\n",
       " 'index',\n",
       " 'isalnum',\n",
       " 'isalpha',\n",
       " 'isascii',\n",
       " 'isdecimal',\n",
       " 'isdigit',\n",
       " 'isidentifier',\n",
       " 'islower',\n",
       " 'isnumeric',\n",
       " 'isprintable',\n",
       " 'isspace',\n",
       " 'istitle',\n",
       " 'isupper',\n",
       " 'join',\n",
       " 'ljust',\n",
       " 'lower',\n",
       " 'lstrip',\n",
       " 'maketrans',\n",
       " 'partition',\n",
       " 'removeprefix',\n",
       " 'removesuffix',\n",
       " 'replace',\n",
       " 'rfind',\n",
       " 'rindex',\n",
       " 'rjust',\n",
       " 'rpartition',\n",
       " 'rsplit',\n",
       " 'rstrip',\n",
       " 'split',\n",
       " 'splitlines',\n",
       " 'startswith',\n",
       " 'strip',\n",
       " 'swapcase',\n",
       " 'title',\n",
       " 'translate',\n",
       " 'upper',\n",
       " 'zfill']"
      ]
     },
     "execution_count": 6,
     "metadata": {},
     "output_type": "execute_result"
    }
   ],
   "source": [
    "dir(str)"
   ]
  },
  {
   "cell_type": "code",
   "execution_count": 52,
   "id": "d0110afa-d49d-4da5-bd70-671093b5dea1",
   "metadata": {},
   "outputs": [
    {
     "data": {
      "text/plain": [
       "'hello_python_world'"
      ]
     },
     "execution_count": 52,
     "metadata": {},
     "output_type": "execute_result"
    }
   ],
   "source": [
    "text.replace(\" \",\"_\")"
   ]
  },
  {
   "cell_type": "code",
   "execution_count": 32,
   "id": "e92dbd0d-94a4-4608-b34c-7757e875afbd",
   "metadata": {},
   "outputs": [
    {
     "data": {
      "text/plain": [
       "['hello', 'python', 'world']"
      ]
     },
     "execution_count": 32,
     "metadata": {},
     "output_type": "execute_result"
    }
   ],
   "source": [
    "'hello_python_world'.split('_',)"
   ]
  },
  {
   "cell_type": "code",
   "execution_count": 55,
   "id": "c92929ce-697e-4032-8203-3211940bf3dd",
   "metadata": {},
   "outputs": [
    {
     "data": {
      "text/plain": [
       "'hello-python-world'"
      ]
     },
     "execution_count": 55,
     "metadata": {},
     "output_type": "execute_result"
    }
   ],
   "source": [
    "text.replace(\" \",\"-\")"
   ]
  },
  {
   "cell_type": "code",
   "execution_count": 59,
   "id": "9421b512-3ee5-4a7d-8b64-68513c626f0e",
   "metadata": {},
   "outputs": [
    {
     "name": "stdout",
     "output_type": "stream",
     "text": [
      "hello-python-world\n"
     ]
    }
   ],
   "source": [
    "print('hello-python-world')"
   ]
  },
  {
   "cell_type": "markdown",
   "id": "be9ec8b4-6522-4613-8b04-c82aba6dc735",
   "metadata": {},
   "source": [
    "# question 2"
   ]
  },
  {
   "cell_type": "code",
   "execution_count": 61,
   "id": "984f7aff-a986-47e3-86ac-2f1be0f3f4cf",
   "metadata": {},
   "outputs": [],
   "source": [
    "word = \"Javascript\""
   ]
  },
  {
   "cell_type": "code",
   "execution_count": 63,
   "id": "9ac8a400-52f2-45ec-8986-57fe82e12095",
   "metadata": {},
   "outputs": [
    {
     "data": {
      "text/plain": [
       "'Javascript'"
      ]
     },
     "execution_count": 63,
     "metadata": {},
     "output_type": "execute_result"
    }
   ],
   "source": [
    "word"
   ]
  },
  {
   "cell_type": "code",
   "execution_count": 71,
   "id": "5aa45b0c-6ba1-435d-825d-2d1d9359fec5",
   "metadata": {},
   "outputs": [
    {
     "name": "stdout",
     "output_type": "stream",
     "text": [
      "false\n"
     ]
    }
   ],
   "source": [
    "if len(\"word\")>5:\n",
    "    print(\"true\")\n",
    "else:\n",
    "    print(\"false\")"
   ]
  },
  {
   "cell_type": "markdown",
   "id": "844f3896-c632-4077-88f8-90cfd17419aa",
   "metadata": {},
   "source": [
    "# question 3"
   ]
  },
  {
   "cell_type": "code",
   "execution_count": 75,
   "id": "ea769b06-5fe1-4373-af6a-0266940a5d89",
   "metadata": {},
   "outputs": [],
   "source": [
    "num2=12"
   ]
  },
  {
   "cell_type": "code",
   "execution_count": 77,
   "id": "095a7ad3-498d-4204-8f3b-1305a306f042",
   "metadata": {},
   "outputs": [
    {
     "data": {
      "text/plain": [
       "12"
      ]
     },
     "execution_count": 77,
     "metadata": {},
     "output_type": "execute_result"
    }
   ],
   "source": [
    "num2"
   ]
  },
  {
   "cell_type": "code",
   "execution_count": 79,
   "id": "531201ed-118b-4348-bc7e-d50959f881e6",
   "metadata": {},
   "outputs": [
    {
     "name": "stdout",
     "output_type": "stream",
     "text": [
      "true\n"
     ]
    }
   ],
   "source": [
    "if len(\"12\")<10:\n",
    "    print(\"true\")\n",
    "else:\n",
    "    print(\"false\")"
   ]
  },
  {
   "cell_type": "code",
   "execution_count": 81,
   "id": "8ed8a04e-f108-454e-92f6-c69eed242d4e",
   "metadata": {},
   "outputs": [
    {
     "name": "stdout",
     "output_type": "stream",
     "text": [
      "even\n"
     ]
    }
   ],
   "source": [
    "if len(\"12\"):\n",
    "    print(\"even\")\n",
    "else:\n",
    "    print (\"odd\")\n"
   ]
  },
  {
   "cell_type": "markdown",
   "id": "1f1bbe96-6cbb-4906-919e-2ca9d99002fc",
   "metadata": {},
   "source": [
    "# question 4 "
   ]
  },
  {
   "cell_type": "code",
   "execution_count": 86,
   "id": "90614a64-1074-43b8-9923-3229ba9643b9",
   "metadata": {},
   "outputs": [],
   "source": [
    "num3=3"
   ]
  },
  {
   "cell_type": "code",
   "execution_count": 88,
   "id": "9ba304d4-0200-45b3-a551-280a4c038739",
   "metadata": {},
   "outputs": [
    {
     "data": {
      "text/plain": [
       "3"
      ]
     },
     "execution_count": 88,
     "metadata": {},
     "output_type": "execute_result"
    }
   ],
   "source": [
    "num3"
   ]
  },
  {
   "cell_type": "code",
   "execution_count": 100,
   "id": "a461f390-53b5-4287-b780-ee8b04608ace",
   "metadata": {},
   "outputs": [
    {
     "ename": "IndentationError",
     "evalue": "expected an indented block after 'else' statement on line 3 (3079272134.py, line 4)",
     "output_type": "error",
     "traceback": [
      "\u001b[1;36m  Cell \u001b[1;32mIn[100], line 4\u001b[1;36m\u001b[0m\n\u001b[1;33m    print('false')\u001b[0m\n\u001b[1;37m    ^\u001b[0m\n\u001b[1;31mIndentationError\u001b[0m\u001b[1;31m:\u001b[0m expected an indented block after 'else' statement on line 3\n"
     ]
    }
   ],
   "source": [
    "if \"num3\"<5 or num3 >20:\n",
    "    print('true')\n",
    "else:\n",
    "print('false')\n"
   ]
  },
  {
   "cell_type": "code",
   "execution_count": 102,
   "id": "bc6b1a14-0ec2-421f-9cc5-dcd0ccb09c86",
   "metadata": {},
   "outputs": [
    {
     "name": "stdout",
     "output_type": "stream",
     "text": [
      "True\n"
     ]
    }
   ],
   "source": [
    "num3 = 3\n",
    "\n",
    "if num3 < 5 or num3 > 20:\n",
    "    print(True)\n",
    "else:\n",
    "    print(False)\n"
   ]
  },
  {
   "cell_type": "markdown",
   "id": "ef267e3f-617d-445e-8d83-d7851c43044f",
   "metadata": {},
   "source": [
    "# question 5"
   ]
  },
  {
   "cell_type": "code",
   "execution_count": 2,
   "id": "b602704d-2e73-407b-a22c-a68b777cbdab",
   "metadata": {},
   "outputs": [],
   "source": [
    "age = 25        \n",
    "has_id = True    \n"
   ]
  },
  {
   "cell_type": "code",
   "execution_count": 4,
   "id": "8c7996b4-b377-4d1f-9647-9e6a909ff5a3",
   "metadata": {},
   "outputs": [
    {
     "name": "stdout",
     "output_type": "stream",
     "text": [
      "Access granted.\n"
     ]
    }
   ],
   "source": [
    "age = 25\n",
    "has_id = True\n",
    "\n",
    "if age >= 18 and age <= 65 and has_id == True:\n",
    "    print(\"Access granted.\")   \n",
    "else:\n",
    "   print(\"Access denied.\")   \n"
   ]
  },
  {
   "cell_type": "markdown",
   "id": "f000eaa9-efb4-4ba0-8e2a-a58e856329e6",
   "metadata": {},
   "source": [
    "# question 6"
   ]
  },
  {
   "cell_type": "code",
   "execution_count": 7,
   "id": "97f4502d-fcae-4f6c-ad94-e38de64108c3",
   "metadata": {},
   "outputs": [],
   "source": [
    "url = \"https://www.example.com\""
   ]
  },
  {
   "cell_type": "code",
   "execution_count": 9,
   "id": "1ce4be7a-d815-4ec6-a717-1fd4a3814d48",
   "metadata": {},
   "outputs": [
    {
     "data": {
      "text/plain": [
       "'https://www.example.com'"
      ]
     },
     "execution_count": 9,
     "metadata": {},
     "output_type": "execute_result"
    }
   ],
   "source": [
    "url"
   ]
  },
  {
   "cell_type": "code",
   "execution_count": 15,
   "id": "b212d48f-4a9a-4d72-bb86-cc713b4e4c48",
   "metadata": {},
   "outputs": [
    {
     "data": {
      "text/plain": [
       "['__add__',\n",
       " '__class__',\n",
       " '__contains__',\n",
       " '__delattr__',\n",
       " '__dir__',\n",
       " '__doc__',\n",
       " '__eq__',\n",
       " '__format__',\n",
       " '__ge__',\n",
       " '__getattribute__',\n",
       " '__getitem__',\n",
       " '__getnewargs__',\n",
       " '__getstate__',\n",
       " '__gt__',\n",
       " '__hash__',\n",
       " '__init__',\n",
       " '__init_subclass__',\n",
       " '__iter__',\n",
       " '__le__',\n",
       " '__len__',\n",
       " '__lt__',\n",
       " '__mod__',\n",
       " '__mul__',\n",
       " '__ne__',\n",
       " '__new__',\n",
       " '__reduce__',\n",
       " '__reduce_ex__',\n",
       " '__repr__',\n",
       " '__rmod__',\n",
       " '__rmul__',\n",
       " '__setattr__',\n",
       " '__sizeof__',\n",
       " '__str__',\n",
       " '__subclasshook__',\n",
       " 'capitalize',\n",
       " 'casefold',\n",
       " 'center',\n",
       " 'count',\n",
       " 'encode',\n",
       " 'endswith',\n",
       " 'expandtabs',\n",
       " 'find',\n",
       " 'format',\n",
       " 'format_map',\n",
       " 'index',\n",
       " 'isalnum',\n",
       " 'isalpha',\n",
       " 'isascii',\n",
       " 'isdecimal',\n",
       " 'isdigit',\n",
       " 'isidentifier',\n",
       " 'islower',\n",
       " 'isnumeric',\n",
       " 'isprintable',\n",
       " 'isspace',\n",
       " 'istitle',\n",
       " 'isupper',\n",
       " 'join',\n",
       " 'ljust',\n",
       " 'lower',\n",
       " 'lstrip',\n",
       " 'maketrans',\n",
       " 'partition',\n",
       " 'removeprefix',\n",
       " 'removesuffix',\n",
       " 'replace',\n",
       " 'rfind',\n",
       " 'rindex',\n",
       " 'rjust',\n",
       " 'rpartition',\n",
       " 'rsplit',\n",
       " 'rstrip',\n",
       " 'split',\n",
       " 'splitlines',\n",
       " 'startswith',\n",
       " 'strip',\n",
       " 'swapcase',\n",
       " 'title',\n",
       " 'translate',\n",
       " 'upper',\n",
       " 'zfill']"
      ]
     },
     "execution_count": 15,
     "metadata": {},
     "output_type": "execute_result"
    }
   ],
   "source": [
    "dir(str)"
   ]
  },
  {
   "cell_type": "code",
   "execution_count": 13,
   "id": "695db387-2833-458b-a4b1-a9245d2adf22",
   "metadata": {},
   "outputs": [
    {
     "name": "stdout",
     "output_type": "stream",
     "text": [
      "The URL is valid.\n"
     ]
    }
   ],
   "source": [
    "url = \"https://www.example.com\"\n",
    "\n",
    "if url.startswith(\"http://\") or url.startswith(\"https://\"):\n",
    "    print(\"The URL is valid.\")\n",
    "else:\n",
    "    print(\"The URL is invalid.\")\n"
   ]
  },
  {
   "cell_type": "markdown",
   "id": "128f0b67-4440-46ac-b1a4-9675cf656952",
   "metadata": {},
   "source": [
    "# question 7"
   ]
  },
  {
   "cell_type": "code",
   "execution_count": 18,
   "id": "14d00d70-51d8-4151-aca7-1c26fbd10515",
   "metadata": {},
   "outputs": [],
   "source": [
    "price=100"
   ]
  },
  {
   "cell_type": "code",
   "execution_count": 20,
   "id": "49e29705-939d-4e1d-89c5-26b11cf39a13",
   "metadata": {},
   "outputs": [
    {
     "data": {
      "text/plain": [
       "100"
      ]
     },
     "execution_count": 20,
     "metadata": {},
     "output_type": "execute_result"
    }
   ],
   "source": [
    "price\n"
   ]
  },
  {
   "cell_type": "code",
   "execution_count": 24,
   "id": "b0ec8ae6-83ae-4cfc-bb2c-0c8cfd1f037d",
   "metadata": {},
   "outputs": [],
   "source": [
    "price *=0.9"
   ]
  },
  {
   "cell_type": "code",
   "execution_count": 30,
   "id": "6fbee118-d7c9-4d4c-8fad-f9f72b395568",
   "metadata": {},
   "outputs": [
    {
     "name": "stdout",
     "output_type": "stream",
     "text": [
      "0.9: 90.0\n"
     ]
    }
   ],
   "source": [
    "print (\"0.9:\",price)"
   ]
  },
  {
   "cell_type": "markdown",
   "id": "48ac7dd9-97d3-4057-a435-5a10d7856161",
   "metadata": {},
   "source": [
    "# question 8"
   ]
  },
  {
   "cell_type": "code",
   "execution_count": 32,
   "id": "d9daff6e-f819-47e9-869a-18753511565d",
   "metadata": {},
   "outputs": [],
   "source": [
    "premium_customers = [\"alice@example.com\", \"charlie@example.com\", \"bob@example.com\"]\n",
    "\n",
    "basic_customers = [\"alex@example.com\", \"david@example.com\", \"chloe@example.com\"]"
   ]
  },
  {
   "cell_type": "code",
   "execution_count": 36,
   "id": "15eac034-b2ae-49e9-852c-4c984c13a412",
   "metadata": {},
   "outputs": [
    {
     "data": {
      "text/plain": [
       "['alice@example.com', 'charlie@example.com', 'bob@example.com']"
      ]
     },
     "execution_count": 36,
     "metadata": {},
     "output_type": "execute_result"
    }
   ],
   "source": [
    "premium_customers\n"
   ]
  },
  {
   "cell_type": "code",
   "execution_count": 38,
   "id": "472ac07a-f41b-4f73-a744-750cbc9f4f36",
   "metadata": {},
   "outputs": [
    {
     "data": {
      "text/plain": [
       "['alex@example.com', 'david@example.com', 'chloe@example.com']"
      ]
     },
     "execution_count": 38,
     "metadata": {},
     "output_type": "execute_result"
    }
   ],
   "source": [
    "basic_customers"
   ]
  },
  {
   "cell_type": "code",
   "execution_count": 40,
   "id": "343d388a-c011-4f56-b946-0905b638dd1a",
   "metadata": {},
   "outputs": [
    {
     "data": {
      "text/plain": [
       "['__add__',\n",
       " '__class__',\n",
       " '__contains__',\n",
       " '__delattr__',\n",
       " '__dir__',\n",
       " '__doc__',\n",
       " '__eq__',\n",
       " '__format__',\n",
       " '__ge__',\n",
       " '__getattribute__',\n",
       " '__getitem__',\n",
       " '__getnewargs__',\n",
       " '__getstate__',\n",
       " '__gt__',\n",
       " '__hash__',\n",
       " '__init__',\n",
       " '__init_subclass__',\n",
       " '__iter__',\n",
       " '__le__',\n",
       " '__len__',\n",
       " '__lt__',\n",
       " '__mod__',\n",
       " '__mul__',\n",
       " '__ne__',\n",
       " '__new__',\n",
       " '__reduce__',\n",
       " '__reduce_ex__',\n",
       " '__repr__',\n",
       " '__rmod__',\n",
       " '__rmul__',\n",
       " '__setattr__',\n",
       " '__sizeof__',\n",
       " '__str__',\n",
       " '__subclasshook__',\n",
       " 'capitalize',\n",
       " 'casefold',\n",
       " 'center',\n",
       " 'count',\n",
       " 'encode',\n",
       " 'endswith',\n",
       " 'expandtabs',\n",
       " 'find',\n",
       " 'format',\n",
       " 'format_map',\n",
       " 'index',\n",
       " 'isalnum',\n",
       " 'isalpha',\n",
       " 'isascii',\n",
       " 'isdecimal',\n",
       " 'isdigit',\n",
       " 'isidentifier',\n",
       " 'islower',\n",
       " 'isnumeric',\n",
       " 'isprintable',\n",
       " 'isspace',\n",
       " 'istitle',\n",
       " 'isupper',\n",
       " 'join',\n",
       " 'ljust',\n",
       " 'lower',\n",
       " 'lstrip',\n",
       " 'maketrans',\n",
       " 'partition',\n",
       " 'removeprefix',\n",
       " 'removesuffix',\n",
       " 'replace',\n",
       " 'rfind',\n",
       " 'rindex',\n",
       " 'rjust',\n",
       " 'rpartition',\n",
       " 'rsplit',\n",
       " 'rstrip',\n",
       " 'split',\n",
       " 'splitlines',\n",
       " 'startswith',\n",
       " 'strip',\n",
       " 'swapcase',\n",
       " 'title',\n",
       " 'translate',\n",
       " 'upper',\n",
       " 'zfill']"
      ]
     },
     "execution_count": 40,
     "metadata": {},
     "output_type": "execute_result"
    }
   ],
   "source": [
    "dir(str)"
   ]
  },
  {
   "cell_type": "code",
   "execution_count": 42,
   "id": "686386da-8bf2-47e1-b612-8e6a9be6e190",
   "metadata": {},
   "outputs": [],
   "source": [
    "email = \"alice@example.com\""
   ]
  },
  {
   "cell_type": "code",
   "execution_count": 44,
   "id": "16d80b3e-fb92-46a6-8cd6-bb0e93494ebb",
   "metadata": {},
   "outputs": [
    {
     "data": {
      "text/plain": [
       "'alice@example.com'"
      ]
     },
     "execution_count": 44,
     "metadata": {},
     "output_type": "execute_result"
    }
   ],
   "source": [
    "email"
   ]
  },
  {
   "cell_type": "code",
   "execution_count": 54,
   "id": "e8ebe074-23f9-40ef-a609-930db34f17c1",
   "metadata": {},
   "outputs": [],
   "source": [
    "premium = False\n",
    "for customer in premium_customers:\n",
    "    if customer == email:\n",
    "        is_premium = True\n",
    "        break\n",
    "\n",
    "is_basic = False\n",
    "for customer in basic_customers:\n",
    "    if customer == email:\n",
    "        is_basic = True\n",
    "        break"
   ]
  },
  {
   "cell_type": "code",
   "execution_count": 56,
   "id": "a54fd22c-fa20-4ffe-a66f-511c638a1362",
   "metadata": {},
   "outputs": [
    {
     "name": "stdout",
     "output_type": "stream",
     "text": [
      "alice@example.com is only a Premium customer\n"
     ]
    }
   ],
   "source": [
    "if is_premium and is_basic:\n",
    "    print(email, \"is both Premium and Basic customer\")\n",
    "elif is_premium:\n",
    "    print(email, \"is only a Premium customer\")\n",
    "elif is_basic:\n",
    "    print(email, \"is only a Basic customer\")\n",
    "else:\n",
    "    print(email, \"is not a customer\")"
   ]
  },
  {
   "cell_type": "markdown",
   "id": "095f0d5c-e33b-437c-a0f6-450713474e84",
   "metadata": {},
   "source": [
    "# question 9"
   ]
  },
  {
   "cell_type": "code",
   "execution_count": 7,
   "id": "b9867e5f-7f50-4df0-8053-b36469a5ed33",
   "metadata": {},
   "outputs": [
    {
     "name": "stdin",
     "output_type": "stream",
     "text": [
      "Enter your password:  jazim.2003\n"
     ]
    },
    {
     "name": "stdout",
     "output_type": "stream",
     "text": [
      "Contains uppercase letter: False\n",
      "Contains lowercase letter: True\n",
      "Contains space: False\n",
      "Contains special character: True\n",
      "Is the password valid? False\n"
     ]
    }
   ],
   "source": [
    "def check_password(password):\n",
    "    # Check for at least one uppercase letter\n",
    "    has_upper = any(char.isupper() for char in password)\n",
    "\n",
    "    # Check for at least one lowercase letter\n",
    "    has_lower = any(char.islower() for char in password)\n",
    "\n",
    "    # Check if there is any space in the password\n",
    "    has_space = any(char.isspace() for char in password)\n",
    "\n",
    "    # Check for special character (not a letter, digit, or space)\n",
    "    has_special = any(not char.isalnum() and not char.isspace() for char in password)\n",
    "\n",
    "    # Display individual checks (for teacher's understanding)\n",
    "    print(\"Contains uppercase letter:\", has_upper)\n",
    "    print(\"Contains lowercase letter:\", has_lower)\n",
    "    print(\"Contains space:\", has_space)\n",
    "    print(\"Contains special character:\", has_special)\n",
    "\n",
    "    # Final validation logic\n",
    "    if has_upper and has_lower and not has_space and has_special:\n",
    "        return True\n",
    "    else:\n",
    "        return False\n",
    "\n",
    "# Input from user\n",
    "user_password = input(\"Enter your password: \")\n",
    "\n",
    "# Result\n",
    "result = check_password(user_password)\n",
    "print(\"Is the password valid?\", result)\n"
   ]
  },
  {
   "cell_type": "markdown",
   "id": "344ac5b7-c432-401c-9834-bf93103541c7",
   "metadata": {},
   "source": [
    "# question 10"
   ]
  },
  {
   "cell_type": "code",
   "execution_count": 9,
   "id": "597b8bb4-f74b-4759-93fe-7226f4fca17d",
   "metadata": {},
   "outputs": [],
   "source": [
    "product_code = \"SKU-12345-XYZ\"\n"
   ]
  },
  {
   "cell_type": "code",
   "execution_count": 11,
   "id": "66a1a738-74de-4a77-beff-31382cb18a87",
   "metadata": {},
   "outputs": [
    {
     "name": "stdout",
     "output_type": "stream",
     "text": [
      "First position of dash (-): 3\n",
      "Number of dashes (-): 2\n",
      "Numeric part extracted: 12345\n"
     ]
    }
   ],
   "source": [
    "# Step 1: Given product code\n",
    "product_code = \"SKU-12345-XYZ\"\n",
    "\n",
    "# Step 2: Find the first position of the dash\n",
    "first_dash_position = product_code.find('-')\n",
    "print(\"First position of dash (-):\", first_dash_position)\n",
    "\n",
    "# Step 3: Count the number of dashes\n",
    "dash_count = product_code.count('-')\n",
    "print(\"Number of dashes (-):\", dash_count)\n",
    "\n",
    "# Step 4: Extract numeric part (remove prefix and suffix)\n",
    "# Remove \"SKU-\" from the beginning (first 4 characters)\n",
    "# Remove \"-XYZ\" from the end (last 4 characters)\n",
    "numeric_part = product_code[4:-4]\n",
    "print(\"Numeric part extracted:\", numeric_part)\n"
   ]
  },
  {
   "cell_type": "code",
   "execution_count": null,
   "id": "9df47ced-c626-4a7a-9526-04459cc886ed",
   "metadata": {},
   "outputs": [],
   "source": []
  }
 ],
 "metadata": {
  "kernelspec": {
   "display_name": "Python [conda env:base] *",
   "language": "python",
   "name": "conda-base-py"
  },
  "language_info": {
   "codemirror_mode": {
    "name": "ipython",
    "version": 3
   },
   "file_extension": ".py",
   "mimetype": "text/x-python",
   "name": "python",
   "nbconvert_exporter": "python",
   "pygments_lexer": "ipython3",
   "version": "3.12.7"
  },
  "panel-cell-order": [
   "ae3ce238-093a-44d8-b74a-22939f4e7fb0"
  ]
 },
 "nbformat": 4,
 "nbformat_minor": 5
}
