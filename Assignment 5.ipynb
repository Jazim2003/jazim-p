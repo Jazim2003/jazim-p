{
 "cells": [
  {
   "cell_type": "markdown",
   "id": "3af3aa56-aa0a-4f5a-9263-10971666a44a",
   "metadata": {},
   "source": [
    "#  question 1"
   ]
  },
  {
   "cell_type": "code",
   "execution_count": 3,
   "id": "b659a6e1-f823-4d3b-8f88-fad436429d40",
   "metadata": {},
   "outputs": [
    {
     "name": "stdout",
     "output_type": "stream",
     "text": [
      "The sum is: 25\n"
     ]
    }
   ],
   "source": [
    "def add_numbers(a, b):\n",
    "    return a + b\n",
    "\n",
    "# Test the function\n",
    "result = add_numbers(10, 15)\n",
    "print(\"The sum is:\", result)\n"
   ]
  },
  {
   "cell_type": "markdown",
   "id": "9f6c0436-2240-4886-84f1-afe7bfd49d5a",
   "metadata": {},
   "source": [
    "# QUESTION 2"
   ]
  },
  {
   "cell_type": "code",
   "execution_count": 5,
   "id": "e7f7bd32-6fef-4d70-a264-4a20801c8395",
   "metadata": {},
   "outputs": [
    {
     "name": "stdout",
     "output_type": "stream",
     "text": [
      "5 dollars = 1400 rupees\n"
     ]
    }
   ],
   "source": [
    "def currency_converter(amount, exchange_rate=280):\n",
    "    pkr = amount * exchange_rate\n",
    "    return f\"{amount} dollars = {pkr} rupees\"\n",
    "\n",
    "# test the function\n",
    "print(currency_converter(5))\n"
   ]
  },
  {
   "cell_type": "markdown",
   "id": "5bb42ee9-a002-4ec3-8838-879fce48d5e6",
   "metadata": {},
   "source": [
    "# QUESTION 3"
   ]
  },
  {
   "cell_type": "code",
   "execution_count": 31,
   "id": "3c9b6e7b-d8ab-4e2a-bf02-f6198d4d6735",
   "metadata": {},
   "outputs": [],
   "source": [
    "def display_student_info(*,name,age,grade,school):\n",
    "    print(f\"Name   : {name}\")\n",
    "    print(f\"Age    : {age}\")\n",
    "    print(f\"Grade  : {grade}\")\n",
    "    print(f\"School : {school}\")"
   ]
  },
  {
   "cell_type": "code",
   "execution_count": 45,
   "id": "2abd4ddf-9a27-4ba4-a028-5ba1934e88c0",
   "metadata": {},
   "outputs": [
    {
     "name": "stdout",
     "output_type": "stream",
     "text": [
      "Name   : jazim\n",
      "Age    : 15\n",
      "Grade  : 10th\n",
      "School : GCSS\n"
     ]
    }
   ],
   "source": [
    "display_student_info (name = \"jazim\",age = \"15\", grade = \"10th\", school = \"GCSS\")"
   ]
  },
  {
   "cell_type": "markdown",
   "id": "6f904b29-451e-410b-b873-e5872fa02623",
   "metadata": {},
   "source": [
    "# QUESTION 4:"
   ]
  },
  {
   "cell_type": "code",
   "execution_count": 48,
   "id": "2c727a8d-e594-40d3-94db-9293f8019905",
   "metadata": {},
   "outputs": [
    {
     "name": "stdout",
     "output_type": "stream",
     "text": [
      "Total Price: 450\n"
     ]
    }
   ],
   "source": [
    "def calculate_price(price, quantity):\n",
    "    total = price * quantity\n",
    "    return total\n",
    "\n",
    "print(\"Total Price:\", calculate_price(150, 3))\n"
   ]
  },
  {
   "cell_type": "markdown",
   "id": "d5bf9ff2-47be-4787-8272-c4e481a0d9ec",
   "metadata": {},
   "source": [
    "# QUESTION 5:"
   ]
  },
  {
   "cell_type": "code",
   "execution_count": 53,
   "id": "8ac65639-1347-47f5-991d-e3b0273de402",
   "metadata": {},
   "outputs": [
    {
     "name": "stdout",
     "output_type": "stream",
     "text": [
      "Product is Laptop\n",
      "Amazon price is 800\n",
      "eBay price is 750\n",
      "Walmart price is 780\n"
     ]
    }
   ],
   "source": [
    "def display_prices(product, **prices):\n",
    "    print(\"Product is \" + product)\n",
    "    for place in prices:\n",
    "        print(place + \" price is \" + str(prices[place]))\n",
    "\n",
    "display_prices(\"Laptop\", Amazon=800, eBay=750, Walmart=780)\n"
   ]
  },
  {
   "cell_type": "markdown",
   "id": "122f12e1-e44e-454e-b2ba-14c44433e7ba",
   "metadata": {},
   "source": [
    "# QUESTION 6"
   ]
  },
  {
   "cell_type": "code",
   "execution_count": 56,
   "id": "bc88f4de-0e20-4937-8272-9760e12f1414",
   "metadata": {},
   "outputs": [
    {
     "name": "stdout",
     "output_type": "stream",
     "text": [
      "99\n"
     ]
    }
   ],
   "source": [
    "def find_max(*numbers):\n",
    "    max_num = numbers[0] \n",
    "    for num in numbers:\n",
    "        if num > max_num:\n",
    "            max_num = num\n",
    "    return max_num\n",
    "\n",
    "\n",
    "print(find_max(10, 45, 2, 99, 34))  \n"
   ]
  },
  {
   "cell_type": "markdown",
   "id": "63c99ebf-c35b-4571-b1f7-98c5a4a95a77",
   "metadata": {},
   "source": [
    "# QUESTION 7:"
   ]
  },
  {
   "cell_type": "code",
   "execution_count": 59,
   "id": "cf5f0738-e842-46a1-b425-a705ec78f1f2",
   "metadata": {},
   "outputs": [
    {
     "name": "stdout",
     "output_type": "stream",
     "text": [
      "Name: Alice\n",
      "Age: 30\n",
      "Other Details:\n",
      "address: 123 Main St\n",
      "phone: 123-456-7890\n",
      "email: alice@example.com\n"
     ]
    }
   ],
   "source": [
    "def display_info(name, age, **details):\n",
    "    print(\"Name:\", name)\n",
    "    print(\"Age:\", age)\n",
    "    if details:\n",
    "        print(\"Other Details:\")\n",
    "        for key, value in details.items():\n",
    "            print(f\"{key}: {value}\")\n",
    "\n",
    "display_info(\"Alice\", 30, address=\"123 Main St\", phone=\"123-456-7890\", email=\"alice@example.com\")\n"
   ]
  },
  {
   "cell_type": "markdown",
   "id": "abc907d5-4cee-495c-b58f-92e289beadb3",
   "metadata": {},
   "source": [
    "# question 8"
   ]
  },
  {
   "cell_type": "code",
   "execution_count": 2,
   "id": "bdadcbf9-8fdc-43d1-ad6a-a7469ef569b6",
   "metadata": {},
   "outputs": [
    {
     "name": "stdout",
     "output_type": "stream",
     "text": [
      "In-stock product names: ['Laptop', 'Headphones', 'Smartwatch', 'Keyboard']\n",
      "Discounted prices: [('Laptop', 1080.0), ('Headphones', 120.0), ('Smartwatch', 300), ('Keyboard', 85.0)]\n"
     ]
    }
   ],
   "source": [
    "products = [\n",
    "    {\"name\": \"Laptop\", \"price\": 1200, \"in_stock\": True, \"discount\": 0.1},\n",
    "    {\"name\": \"Smartphone\", \"price\": 800, \"in_stock\": False, \"discount\": 0.05},\n",
    "    {\"name\": \"Headphones\", \"price\": 150, \"in_stock\": True, \"discount\": 0.2},\n",
    "    {\"name\": \"Smartwatch\", \"price\": 300, \"in_stock\": True, \"discount\": 0},\n",
    "    {\"name\": \"Keyboard\", \"price\": 100, \"in_stock\": True, \"discount\": 0.15}\n",
    "]\n",
    "\n",
    "in_stock_names = [product[\"name\"] for product in products if product[\"in_stock\"]]\n",
    "\n",
    "discounted_prices = [\n",
    "    (product[\"name\"], product[\"price\"] * (1 - product[\"discount\"]) if product[\"discount\"] > 0 else product[\"price\"])\n",
    "    for product in products if product[\"in_stock\"]\n",
    "]\n",
    "\n",
    "print(\"In-stock product names:\", in_stock_names)\n",
    "print(\"Discounted prices:\", discounted_prices)\n"
   ]
  },
  {
   "cell_type": "markdown",
   "id": "e89fb197-cee6-4bad-9b07-cf7461bc068c",
   "metadata": {},
   "source": [
    "# question 9"
   ]
  },
  {
   "cell_type": "code",
   "execution_count": 5,
   "id": "20b8d179-71a2-4a88-9e85-2b6f659f38f0",
   "metadata": {},
   "outputs": [
    {
     "name": "stdout",
     "output_type": "stream",
     "text": [
      "[2, 4, 6, 8, 10, 12, 14, 16, 18, 20]\n"
     ]
    }
   ],
   "source": [
    "even_numbers = [x for x in range(1, 21) if x % 2 == 0]\n",
    "print(even_numbers)\n"
   ]
  },
  {
   "cell_type": "markdown",
   "id": "37cf745a-c33b-41fd-b282-cdb7619ecf40",
   "metadata": {},
   "source": [
    "# question 10"
   ]
  },
  {
   "cell_type": "code",
   "execution_count": 8,
   "id": "51714a40-bc8c-4bf6-b22d-d5ae1f6c3e22",
   "metadata": {},
   "outputs": [
    {
     "name": "stdout",
     "output_type": "stream",
     "text": [
      "[3, 5, 6, 9, 10, 12, 15, 18, 20, 21, 24, 25, 27, 30, 33, 35, 36, 39, 40, 42, 45, 48, 50]\n"
     ]
    }
   ],
   "source": [
    "numbers = list(range(1, 51))  # 1 se 50 tak numbers ki list\n",
    "divisible_by_3_or_5 = [x for x in numbers if x % 3 == 0 or x % 5 == 0]\n",
    "print(divisible_by_3_or_5)\n"
   ]
  },
  {
   "cell_type": "code",
   "execution_count": null,
   "id": "6a22b0e9-f9e9-45b3-a5af-bab44d4b1d87",
   "metadata": {},
   "outputs": [],
   "source": []
  }
 ],
 "metadata": {
  "kernelspec": {
   "display_name": "Python [conda env:base] *",
   "language": "python",
   "name": "conda-base-py"
  },
  "language_info": {
   "codemirror_mode": {
    "name": "ipython",
    "version": 3
   },
   "file_extension": ".py",
   "mimetype": "text/x-python",
   "name": "python",
   "nbconvert_exporter": "python",
   "pygments_lexer": "ipython3",
   "version": "3.12.7"
  },
  "panel-cell-order": [
   "ae3ce238-093a-44d8-b74a-22939f4e7fb0"
  ]
 },
 "nbformat": 4,
 "nbformat_minor": 5
}
